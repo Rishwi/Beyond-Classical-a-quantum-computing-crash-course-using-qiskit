{
  "nbformat": 4,
  "nbformat_minor": 0,
  "metadata": {
    "colab": {
      "name": "Bernstein_Vazirani_forStrings.ipynb",
      "version": "0.3.2",
      "provenance": []
    },
    "kernelspec": {
      "name": "python3",
      "display_name": "Python 3"
    }
  },
  "cells": [
    {
      "cell_type": "code",
      "metadata": {
        "id": "Sj-HWtAFYUyH",
        "colab_type": "code",
        "colab": {}
      },
      "source": [
        "#pip install qiskit"
      ],
      "execution_count": 0,
      "outputs": []
    },
    {
      "cell_type": "code",
      "metadata": {
        "id": "7lBuSjUEXgAY",
        "colab_type": "code",
        "colab": {
          "base_uri": "https://localhost:8080/",
          "height": 264
        },
        "outputId": "d4ddddf9-6571-4e8c-bb72-ef9a4f7f57f0"
      },
      "source": [
        "from qiskit import *\n",
        "from qiskit.tools.visualization import plot_histogram\n",
        "\n",
        "stt=\"Hello world\"\n",
        "res = ''.join(format(ord(i), 'b') for i in stt)\n",
        "print(res)\n",
        "\n",
        "s = res\n",
        "n = len(s)\n",
        "circuit = QuantumCircuit(n+1,n)\n",
        "circuit.x(n)\n",
        "circuit.barrier()\n",
        "circuit.h(range(n+1))\n",
        "circuit.barrier()\n",
        "for i, tf in enumerate(reversed(s)):\n",
        "    if tf == '1': \n",
        "        circuit.cx(i, n)\n",
        "circuit.barrier()\n",
        "circuit.h(range(n+1)) \n",
        "circuit.barrier()\n",
        "circuit.measure(range(n), range(n)) \n",
        "%matplotlib inline\n",
        "circuit.draw(output='mpl')\n",
        "\n",
        "simulator = Aer.get_backend('qasm_simulator')\n",
        "result = execute(circuit, backend=simulator, shots=1).result()\n",
        "from qiskit.visualization import plot_histogram\n",
        "plot_histogram(result.get_counts(circuit))\n",
        "\n",
        "kk=result.get_counts()\n",
        "kkk=list(kk.keys())\n",
        "strrr=kkk[0]\n",
        "print(strrr)\n",
        "res=strrr            #i'm changing res variable, so, now i don't know what's in res\n",
        "i=0\n",
        "mainstr=[]\n",
        "while i<len(res):\n",
        "  if res[i:i+6] != '100000':\n",
        "    sk=res[i:i+7]\n",
        "    i=i+7\n",
        "    ssk=int(sk, base=2)\n",
        "    print(ssk)\n",
        "    mainstr.append(chr(ssk))\n",
        "  elif res[i:i+6] == '100000':\n",
        "    i=i+6\n",
        "    mainstr.append(\" \")\n",
        "print(''.join(mainstr))"
      ],
      "execution_count": 3,
      "outputs": [
        {
          "output_type": "stream",
          "text": [
            "1001000110010111011001101100110111110000011101111101111111001011011001100100\n",
            "1001000110010111011001101100110111110000011101111101111111001011011001100100\n",
            "72\n",
            "101\n",
            "108\n",
            "108\n",
            "111\n",
            "119\n",
            "111\n",
            "114\n",
            "108\n",
            "100\n",
            "Hello world\n"
          ],
          "name": "stdout"
        }
      ]
    }
  ]
}