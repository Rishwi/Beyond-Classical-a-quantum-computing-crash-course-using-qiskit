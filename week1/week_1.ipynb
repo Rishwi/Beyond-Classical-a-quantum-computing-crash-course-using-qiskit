{
  "nbformat": 4,
  "nbformat_minor": 0,
  "metadata": {
    "colab": {
      "name": "week_1.ipynb",
      "provenance": []
    },
    "kernelspec": {
      "name": "python3",
      "display_name": "Python 3"
    }
  },
  "cells": [
    {
      "cell_type": "code",
      "metadata": {
        "id": "EMBu_9qr0HE_",
        "colab_type": "code",
        "colab": {}
      },
      "source": [
        "pip install qiskit"
      ],
      "execution_count": 0,
      "outputs": []
    },
    {
      "cell_type": "code",
      "metadata": {
        "id": "nuMdigqQ0FZL",
        "colab_type": "code",
        "colab": {
          "base_uri": "https://localhost:8080/",
          "height": 185
        },
        "outputId": "9cbca009-0257-4c18-97dd-e67598a54f56"
      },
      "source": [
        "from qiskit import *\n",
        "qr = QuantumRegister(2)\n",
        "cr = ClassicalRegister(2)\n",
        "circuit = QuantumCircuit(qr , cr)\n",
        "circuit.h(qr[0])\n",
        "circuit.cx(qr[0], qr[1])\n",
        "circuit.measure(qr,cr)\n",
        "circuit.draw(output='mpl')"
      ],
      "execution_count": 2,
      "outputs": [
        {
          "output_type": "execute_result",
          "data": {
            "image/png": "[encoded data removed]",
            "text/plain": [
              "<Figure size 429.828x204.68 with 1 Axes>"
            ]
          },
          "metadata": {
            "tags": []
          },
          "execution_count": 2
        }
      ]
    },
    {
      "cell_type": "markdown",
      "metadata": {
        "id": "IgphHgR90l2B",
        "colab_type": "text"
      },
      "source": [
        "Excersice - 0"
      ]
    },
    {
      "cell_type": "markdown",
      "metadata": {
        "id": "JKy8D7GH0sP-",
        "colab_type": "text"
      },
      "source": [
        "You need to try Entanglement Circuit using quantum simulator and computer not Teleportation. Sorry for the mistake.\n"
      ]
    },
    {
      "cell_type": "code",
      "metadata": {
        "id": "pcmZOP8O0pEc",
        "colab_type": "code",
        "colab": {
          "base_uri": "https://localhost:8080/",
          "height": 331
        },
        "outputId": "9ba5e265-61c9-47d7-f1bf-467c40662d57"
      },
      "source": [
        "from qiskit.visualization import plot_histogram\n",
        "\n",
        "backend=Aer.get_backend('qasm_simulator')\n",
        "counts = execute(circuit, backend= backend, shots= 1024).result().get_counts()\n",
        "plot_histogram(counts)"
      ],
      "execution_count": 3,
      "outputs": [
        {
          "output_type": "execute_result",
          "data": {
            "image/png": "[encoded data removed]",
            "text/plain": [
              "<Figure size 504x360 with 1 Axes>"
            ]
          },
          "metadata": {
            "tags": []
          },
          "execution_count": 3
        }
      ]
    },
    {
      "cell_type": "markdown",
      "metadata": {
        "id": "OQJFpO1c2QUs",
        "colab_type": "text"
      },
      "source": [
        "Executing using IBMQ Quantum Computer.\n",
        "First you need your account access token.\n",
        "\n",
        "1. Go to https://quantum-computing.ibm.com/account\n",
        "2. If you don't have account create one and click copy token in that page.\n",
        "3. Paste that token here in save account function parameter."
      ]
    },
    {
      "cell_type": "code",
      "metadata": {
        "id": "_x6UHh2S2wWx",
        "colab_type": "code",
        "colab": {
          "base_uri": "https://localhost:8080/",
          "height": 36
        },
        "outputId": "08b05b1d-1059-423b-c416-721b54685b2b"
      },
      "source": [
        "IBMQ.save_account('copy your token here')\n",
        "IBMQ.load_account()"
      ],
      "execution_count": 4,
      "outputs": [
        {
          "output_type": "execute_result",
          "data": {
            "text/plain": [
              "<AccountProvider for IBMQ(hub='ibm-q', group='open', project='main')>"
            ]
          },
          "metadata": {
            "tags": []
          },
          "execution_count": 4
        }
      ]
    },
    {
      "cell_type": "code",
      "metadata": {
        "id": "9ajHYvYH1mSh",
        "colab_type": "code",
        "colab": {
          "base_uri": "https://localhost:8080/",
          "height": 350
        },
        "outputId": "cb27f196-2fc4-422f-a8cf-11737851c26e"
      },
      "source": [
        "from qiskit.visualization import plot_histogram\n",
        "from qiskit.tools.monitor import job_monitor   #used to monitor the job process\n",
        "\n",
        "provider = IBMQ.get_provider('ibm-q')\n",
        "qcomp = provider.get_backend('ibmq_16_melbourne')\n",
        "job=execute(circuit, backend=qcomp)\n",
        "job_monitor(job)\n",
        "rishwi=job.result()\n",
        "plot_histogram(rishwi.get_counts(circuit))"
      ],
      "execution_count": 6,
      "outputs": [
        {
          "output_type": "stream",
          "text": [
            "Job Status: job has successfully run\n"
          ],
          "name": "stdout"
        },
        {
          "output_type": "execute_result",
          "data": {
            "image/png": "[encoded data removed]",
            "text/plain": [
              "<Figure size 504x360 with 1 Axes>"
            ]
          },
          "metadata": {
            "tags": []
          },
          "execution_count": 6
        }
      ]
    }
  ]
}